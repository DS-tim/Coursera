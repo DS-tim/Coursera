{
 "cells": [
  {
   "cell_type": "markdown",
   "id": "7f74768a-a606-4fac-9f75-53be5e1c1562",
   "metadata": {},
   "source": [
    "# Data Science Tools and Ecosystem"
   ]
  },
  {
   "cell_type": "markdown",
   "id": "bb88d57f-3818-4235-90dd-8185b5d0bf7d",
   "metadata": {},
   "source": [
    "## Author: Tim "
   ]
  },
  {
   "cell_type": "markdown",
   "id": "163ec118-ed5a-4ecf-b585-b3cb4493f069",
   "metadata": {},
   "source": [
    "In this notebook, Data Science Tools and Ecosystem are summarized."
   ]
  },
  {
   "cell_type": "markdown",
   "id": "3f32d2a3-5194-49e7-8ada-2fab72abf772",
   "metadata": {},
   "source": [
    "Objectives:\n",
    "1. List popular languages for Data Science\n",
    "2. List popular libraries for Data Science\n",
    "3. List popular tools for Data Science"
   ]
  },
  {
   "cell_type": "markdown",
   "id": "14e41729-eae3-4f05-9ff9-0ca1bc546930",
   "metadata": {},
   "source": [
    "Some of the popular languages that Data Scientists use are:\n",
    "1. python\n",
    "2. R\n",
    "3. SQL"
   ]
  },
  {
   "cell_type": "markdown",
   "id": "92606578-e98f-4a90-91e6-0f47d902a6f9",
   "metadata": {},
   "source": [
    "Some of the commonly used libraries used by Data Scientists include:\n",
    "1. dplyr\n",
    "2. pandas\n",
    "3. numpy"
   ]
  },
  {
   "cell_type": "markdown",
   "id": "173a1a09-6057-4a31-a4f8-20b0de90860d",
   "metadata": {},
   "source": [
    "| Data Science Tools |\n",
    "| - |\n",
    "| RStudio\n",
    "| Spyder\n",
    "| GitHub"
   ]
  },
  {
   "cell_type": "markdown",
   "id": "88f3c42a-8602-4767-a381-c3ab3fda3377",
   "metadata": {},
   "source": [
    "### Below are a few examples of evaluating arithmetic expressions in Python"
   ]
  },
  {
   "cell_type": "code",
   "execution_count": 15,
   "id": "d5608848-82be-42d2-8b50-d06b0c82f7ee",
   "metadata": {},
   "outputs": [
    {
     "data": {
      "text/plain": [
       "17"
      ]
     },
     "execution_count": 15,
     "metadata": {},
     "output_type": "execute_result"
    }
   ],
   "source": [
    "# This a simple arithmetic expression to mutiply then add integers\n",
    "(3*4)+5"
   ]
  },
  {
   "cell_type": "code",
   "execution_count": 17,
   "id": "96d38d92-5c8e-4958-8a81-d6212fe8fdb1",
   "metadata": {},
   "outputs": [
    {
     "data": {
      "text/plain": [
       "3.3333333333333335"
      ]
     },
     "execution_count": 17,
     "metadata": {},
     "output_type": "execute_result"
    }
   ],
   "source": [
    "# This will convert 200 minutes to hours by diving by 60\n",
    "200/60"
   ]
  },
  {
   "cell_type": "code",
   "execution_count": null,
   "id": "28c26238-7d63-4692-ad93-ca9270637774",
   "metadata": {},
   "outputs": [],
   "source": []
  }
 ],
 "metadata": {
  "kernelspec": {
   "display_name": "Python 3 (ipykernel)",
   "language": "python",
   "name": "python3"
  },
  "language_info": {
   "codemirror_mode": {
    "name": "ipython",
    "version": 3
   },
   "file_extension": ".py",
   "mimetype": "text/x-python",
   "name": "python",
   "nbconvert_exporter": "python",
   "pygments_lexer": "ipython3",
   "version": "3.9.13"
  }
 },
 "nbformat": 4,
 "nbformat_minor": 5
}
